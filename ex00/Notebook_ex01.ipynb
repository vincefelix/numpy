{
 "cells": [
  {
   "cell_type": "code",
   "execution_count": 8,
   "id": "db7a0ad0-7aa7-411f-8c92-eebd09e50d2a",
   "metadata": {},
   "outputs": [
    {
     "name": "stdout",
     "output_type": "stream",
     "text": [
      "<class 'int'>\n",
      "<class 'float'>\n",
      "<class 'str'>\n",
      "<class 'dict'>\n",
      "<class 'list'>\n",
      "<class 'tuple'>\n",
      "<class 'set'>\n",
      "<class 'bool'>\n"
     ]
    }
   ],
   "source": [
    "import numpy as np\n",
    "\n",
    "tab_array = np.array([\n",
    "    42,                      # Integer\n",
    "    3.14,                    # Float\n",
    "    \"Hello, NumPy!\",         # String\n",
    "    {\"key\": \"value\"},        # Dictionary\n",
    "    [1, 2, 3],               # List\n",
    "    (4, 5, 6),               # Tuple\n",
    "    {7, 8, 9},               # Set\n",
    "    True                     # Boolean\n",
    "], dtype=object) \n",
    "\n",
    "\n",
    "for i in tab_array:\n",
    "    print(type(i))\n"
   ]
  },
  {
   "cell_type": "code",
   "execution_count": null,
   "id": "39c25b98-3012-4163-b3a3-e45ff8fef994",
   "metadata": {},
   "outputs": [],
   "source": []
  }
 ],
 "metadata": {
  "kernelspec": {
   "display_name": "Python 3 (ipykernel)",
   "language": "python",
   "name": "python3"
  },
  "language_info": {
   "codemirror_mode": {
    "name": "ipython",
    "version": 3
   },
   "file_extension": ".py",
   "mimetype": "text/x-python",
   "name": "python",
   "nbconvert_exporter": "python",
   "pygments_lexer": "ipython3",
   "version": "3.10.12"
  }
 },
 "nbformat": 4,
 "nbformat_minor": 5
}
