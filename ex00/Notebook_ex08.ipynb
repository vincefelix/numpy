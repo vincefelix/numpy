{
 "cells": [
  {
   "cell_type": "code",
   "execution_count": 17,
   "id": "64d4dc1b-6ae8-4d66-b083-69a37dc97f29",
   "metadata": {},
   "outputs": [
    {
     "name": "stdout",
     "output_type": "stream",
     "text": [
      "76800\n",
      "Nombre de NaN : 0\n",
      "Type des données : float32\n",
      "Lignes sélectionnées :\n",
      " [[7.800e+00 8.800e-01 0.000e+00 2.600e+00 9.800e-02 2.500e+01 6.700e+01\n",
      "  9.968e-01 3.200e+00 6.800e-01 9.800e+00 5.000e+00]\n",
      " [7.900e+00 6.000e-01 6.000e-02 1.600e+00 6.900e-02 1.500e+01 5.900e+01\n",
      "  9.964e-01 3.300e+00 4.600e-01 9.400e+00 5.000e+00]\n",
      " [7.500e+00 5.000e-01 3.600e-01 6.100e+00 7.100e-02 1.700e+01 1.020e+02\n",
      "  9.978e-01 3.350e+00 8.000e-01 1.050e+01 5.000e+00]]\n",
      "Y a-t-il un vin avec plus de 20% d'alcool ? False\n",
      "Moyenne d'alcool : 10.422984\n",
      "Statistiques du pH : {'min': np.float32(2.74), 'max': np.float32(4.01), '25th': np.float32(3.21), '50th (median)': np.float32(3.31), '75th': np.float32(3.4), 'mean': np.float32(3.3111134)}\n",
      "Moyenne de la qualité des vins avec faible teneur en sulfates : 5.1854305\n",
      "Moyenne des variables pour les meilleurs vins : [ 8.566666    0.4233333   0.39111114  2.5777776   0.06844445 13.277778\n",
      " 33.444443    0.99521226  3.2672222   0.76777774 12.094444    8.        ]\n",
      "Moyenne des variables pour les pires vins : [ 8.359999    0.8845      0.17099999  2.6350002   0.12249999 11.\n",
      " 24.9         0.997464    3.398       0.57000005  9.955       3.        ]\n"
     ]
    }
   ],
   "source": [
    "import numpy as np\n",
    "\n",
    "# Charger les données en utilisant genfromtxt avec np.float32\n",
    "wine_data_with_header = np.genfromtxt(\"winequality-red.csv\", delimiter=';', dtype=np.float32)\n",
    "\n",
    "wine_data = wine_data_with_header[1:]\n",
    "\n",
    "\n",
    "print( wine_data_with_header.nbytes)\n",
    "\n",
    "\n",
    "\n",
    "# Afficher les 2e, 7e et 12e lignes sous forme de tableau 2D (en excluant les NaN si présents)\n",
    "rows = wine_data[[1, 6, 11], :]\n",
    "rows = rows[~np.isnan(rows).any(axis=1)]\n",
    "print(\"Lignes sélectionnées :\\n\", rows)\n",
    "\n",
    "# Vérifier s'il existe un vin avec un pourcentage d'alcool supérieur à 20%\n",
    "alcohol_column = wine_data[:, -2]\n",
    "contains_high_alcohol = np.any(alcohol_column > 20)\n",
    "print(\"Y a-t-il un vin avec plus de 20% d'alcool ?\", contains_high_alcohol)\n",
    "\n",
    "# Calculer le pourcentage moyen d'alcool (en excluant NaN)\n",
    "alcohol_mean = np.nanmean(alcohol_column)\n",
    "print(\"Moyenne d'alcool :\", alcohol_mean)\n",
    "\n",
    "# Calculer les statistiques pour le pH\n",
    "ph_column = wine_data[:, 8]  # La colonne pH\n",
    "ph_stats = {\n",
    "    \"min\": np.nanmin(ph_column),\n",
    "    \"max\": np.nanmax(ph_column),\n",
    "    \"25th\": np.nanpercentile(ph_column, 25),\n",
    "    \"50th (median)\": np.nanpercentile(ph_column, 50),\n",
    "    \"75th\": np.nanpercentile(ph_column, 75),\n",
    "    \"mean\": np.nanmean(ph_column)\n",
    "}\n",
    "print(\"Statistiques du pH :\", ph_stats)\n",
    "\n",
    "# Trouver la moyenne de la qualité des vins avec les 20% les plus faibles en sulfates\n",
    "sulphates_column = wine_data[:, 9]\n",
    "sulphates_20th_percentile = np.nanpercentile(sulphates_column, 20)\n",
    "low_sulphates_mask = sulphates_column < sulphates_20th_percentile\n",
    "quality_column = wine_data[:, -1]  # Dernière colonne contient la qualité\n",
    "target_quality = quality_column[low_sulphates_mask]\n",
    "quality_mean = np.nanmean(target_quality)\n",
    "print(\"Moyenne de la qualité des vins avec faible teneur en sulfates :\", quality_mean)\n",
    "\n",
    "# Moyenne des variables pour les meilleurs et pires vins\n",
    "quality_max = np.nanmax(quality_column)\n",
    "quality_min = np.nanmin(quality_column)\n",
    "\n",
    "best_wines_mask = quality_column == quality_max\n",
    "worst_wines_mask = quality_column == quality_min\n",
    "\n",
    "best_wines_mean = np.nanmean(wine_data[best_wines_mask], axis=0)\n",
    "worst_wines_mean = np.nanmean(wine_data[worst_wines_mask], axis=0)\n",
    "\n",
    "print(\"Moyenne des variables pour les meilleurs vins :\", best_wines_mean)\n",
    "print(\"Moyenne des variables pour les pires vins :\", worst_wines_mean)\n"
   ]
  }
 ],
 "metadata": {
  "kernelspec": {
   "display_name": "Python 3 (ipykernel)",
   "language": "python",
   "name": "python3"
  },
  "language_info": {
   "codemirror_mode": {
    "name": "ipython",
    "version": 3
   },
   "file_extension": ".py",
   "mimetype": "text/x-python",
   "name": "python",
   "nbconvert_exporter": "python",
   "pygments_lexer": "ipython3",
   "version": "3.10.12"
  }
 },
 "nbformat": 4,
 "nbformat_minor": 5
}
