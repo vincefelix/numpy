{
 "cells": [
  {
   "cell_type": "code",
   "execution_count": 3,
   "id": "76642809-11b3-4d41-bcb1-f2b3171d362a",
   "metadata": {},
   "outputs": [
    {
     "name": "stdout",
     "output_type": "stream",
     "text": [
      "[[1 1 1 1 1 1 1 1 1]\n",
      " [1 1 1 1 1 1 1 1 1]\n",
      " [1 1 1 1 1 1 1 1 1]\n",
      " [1 1 1 1 1 1 1 1 1]\n",
      " [1 1 1 1 1 1 1 1 1]\n",
      " [1 1 1 1 1 1 1 1 1]\n",
      " [1 1 1 1 1 1 1 1 1]\n",
      " [1 1 1 1 1 1 1 1 1]\n",
      " [1 1 1 1 1 1 1 1 1]] \n",
      "\n",
      "[[1 1 1 1 1 1 1 1 1]\n",
      " [1 0 0 0 0 0 0 0 1]\n",
      " [1 0 1 0 1 0 1 0 1]\n",
      " [1 0 0 0 0 0 0 0 1]\n",
      " [1 0 1 0 1 0 1 0 1]\n",
      " [1 0 0 0 0 0 0 0 1]\n",
      " [1 0 1 0 1 0 1 0 1]\n",
      " [1 0 0 0 0 0 0 0 1]\n",
      " [1 1 1 1 1 1 1 1 1]] \n",
      "\n",
      "[[ 1  2  3]\n",
      " [ 2  4  6]\n",
      " [ 3  6  9]\n",
      " [ 4  8 12]\n",
      " [ 5 10 15]] \n",
      "\n"
     ]
    }
   ],
   "source": [
    "import numpy as np\n",
    "\n",
    "# Création d'une matrice 9x9 remplie de 1\n",
    "matrix = np.ones((9, 9), dtype=np.int8)\n",
    "print(matrix, \"\\n\")\n",
    "# Remplissage des zéros à l'intérieur\n",
    "matrix[1:-1, 1:-1] = 0  # On modifie tout sauf les bords\n",
    "\n",
    "# Ajout des 1 aux bonnes positions\n",
    "matrix[2:-2:2, 2:-2:2] = 1  # Positionne les 1 en diagonale interne\n",
    "print(matrix, \"\\n\")\n",
    "# Création des tableaux\n",
    "array_1 = np.array([1, 2, 3, 4, 5], dtype=np.int8).reshape(-1, 1)  # (5,1)\n",
    "array_2 = np.array([1, 2, 3], dtype=np.int8).reshape(1, -1)  # (1,3)\n",
    "\n",
    "# Broadcasting : Multiplication des deux tableaux\n",
    "result = array_1 * array_2\n",
    "\n",
    "print(result, \"\\n\")\n",
    "\n"
   ]
  },
  {
   "cell_type": "code",
   "execution_count": null,
   "id": "4cfcbd27-7f40-4b1a-a2e5-fbd87f7cd9a5",
   "metadata": {},
   "outputs": [],
   "source": []
  }
 ],
 "metadata": {
  "kernelspec": {
   "display_name": "Python 3 (ipykernel)",
   "language": "python",
   "name": "python3"
  },
  "language_info": {
   "codemirror_mode": {
    "name": "ipython",
    "version": 3
   },
   "file_extension": ".py",
   "mimetype": "text/x-python",
   "name": "python",
   "nbconvert_exporter": "python",
   "pygments_lexer": "ipython3",
   "version": "3.10.12"
  }
 },
 "nbformat": 4,
 "nbformat_minor": 5
}
