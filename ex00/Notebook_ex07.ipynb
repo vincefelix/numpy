{
 "cells": [
  {
   "cell_type": "code",
   "execution_count": 3,
   "id": "ee042c80-9313-4cda-8954-350dd99e99f4",
   "metadata": {},
   "outputs": [
    {
     "name": "stdout",
     "output_type": "stream",
     "text": [
      "Notes initiales :\n",
      " [[ 7.  1.]\n",
      " [nan  2.]\n",
      " [nan  8.]\n",
      " [ 9.  3.]\n",
      " [ 8.  9.]\n",
      " [nan  2.]\n",
      " [ 8.  2.]\n",
      " [nan  6.]\n",
      " [ 9.  2.]\n",
      " [ 8.  5.]]\n",
      "[ 7. nan nan  9.  8. nan  8. nan  9.  8.]\n",
      "[1. 2. 8. 3. 9. 2. 2. 6. 2. 5.]\n",
      "\n",
      "Tableau final avec la 3ème colonne :\n",
      " [[ 7.  1.  7.]\n",
      " [nan  2.  2.]\n",
      " [nan  8.  8.]\n",
      " [ 9.  3.  9.]\n",
      " [ 8.  9.  8.]\n",
      " [nan  2.  2.]\n",
      " [ 8.  2.  8.]\n",
      " [nan  6.  6.]\n",
      " [ 9.  2.  9.]\n",
      " [ 8.  5.  8.]]\n"
     ]
    }
   ],
   "source": [
    "import numpy as np\n",
    "\n",
    "# Générateur de nombres aléatoires avec seed\n",
    "generator = np.random.default_rng(123)\n",
    "\n",
    "# Création de la matrice des notes (10 étudiants, 2 examens)\n",
    "grades = np.round(generator.uniform(low=0.0, high=10.0, size=(10, 2)))\n",
    "\n",
    "# Remplacement de certaines notes du premier examen par NaN\n",
    "grades[[1, 2, 5, 7], 0] = np.nan  # Les indices 1, 2, 5, 7 du premier examen deviennent NaN\n",
    "\n",
    "# Affichage des notes initiales\n",
    "print(\"Notes initiales :\\n\", grades)\n",
    "\n",
    "\n",
    "# Création de la 3ème colonne avec np.where\n",
    "third_column = np.where(np.isnan(grades[:, 0]), grades[:, 1], grades[:, 0])\n",
    "\n",
    "# Ajout de la colonne au tableau d'origine\n",
    "grades = np.column_stack((grades, third_column))\n",
    "\n",
    "# Affichage du résultat\n",
    "print(\"\\nTableau final avec la 3ème colonne :\\n\", grades)\n"
   ]
  }
 ],
 "metadata": {
  "kernelspec": {
   "display_name": "Python 3 (ipykernel)",
   "language": "python",
   "name": "python3"
  },
  "language_info": {
   "codemirror_mode": {
    "name": "ipython",
    "version": 3
   },
   "file_extension": ".py",
   "mimetype": "text/x-python",
   "name": "python",
   "nbconvert_exporter": "python",
   "pygments_lexer": "ipython3",
   "version": "3.10.12"
  }
 },
 "nbformat": 4,
 "nbformat_minor": 5
}
