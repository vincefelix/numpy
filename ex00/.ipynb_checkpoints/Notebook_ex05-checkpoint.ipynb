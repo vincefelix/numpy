{
 "cells": [
  {
   "cell_type": "code",
   "execution_count": 9,
   "id": "a0dc65b1-ddf7-41f5-bec3-d8fc69eda3c5",
   "metadata": {},
   "outputs": [
    {
     "ename": "TypeError",
     "evalue": "only integer scalar arrays can be converted to a scalar index",
     "output_type": "error",
     "traceback": [
      "\u001b[0;31m---------------------------------------------------------------------------\u001b[0m",
      "\u001b[0;31mTypeError\u001b[0m                                 Traceback (most recent call last)",
      "Cell \u001b[0;32mIn[9], line 7\u001b[0m\n\u001b[1;32m      3\u001b[0m range_50 \u001b[38;5;241m=\u001b[39m np\u001b[38;5;241m.\u001b[39marange(\u001b[38;5;241m1\u001b[39m,\u001b[38;5;241m51\u001b[39m)\n\u001b[1;32m      5\u001b[0m range_from51_to_100 \u001b[38;5;241m=\u001b[39m np\u001b[38;5;241m.\u001b[39marange(\u001b[38;5;241m51\u001b[39m,\u001b[38;5;241m101\u001b[39m)\n\u001b[0;32m----> 7\u001b[0m concat_array \u001b[38;5;241m=\u001b[39m \u001b[43mnp\u001b[49m\u001b[38;5;241;43m.\u001b[39;49m\u001b[43mconcatenate\u001b[49m\u001b[43m(\u001b[49m\u001b[43mrange_50\u001b[49m\u001b[43m,\u001b[49m\u001b[43m \u001b[49m\u001b[43mrange_from51_to_100\u001b[49m\u001b[43m)\u001b[49m\n\u001b[1;32m      9\u001b[0m \u001b[38;5;28mprint\u001b[39m(range_50)\n\u001b[1;32m     10\u001b[0m \u001b[38;5;28mprint\u001b[39m(range_from51_to_100)\n",
      "\u001b[0;31mTypeError\u001b[0m: only integer scalar arrays can be converted to a scalar index"
     ]
    }
   ],
   "source": [
    "import numpy as np\n",
    "\n",
    "range_50 = np.arange(1,51)\n",
    "\n",
    "range_from51_to_100 = np.arange(51,101)\n",
    "\n",
    "concat_array = np.concatenate(range_50, range_from51_to_100)\n",
    "array_reshaped = concat_array.reshape((10, 10))\n",
    "\n",
    "print(range_50)\n",
    "print(range_from51_to_100)\n",
    "print(array_reshaped)\n",
    "\n"
   ]
  }
 ],
 "metadata": {
  "kernelspec": {
   "display_name": "Python 3 (ipykernel)",
   "language": "python",
   "name": "python3"
  },
  "language_info": {
   "codemirror_mode": {
    "name": "ipython",
    "version": 3
   },
   "file_extension": ".py",
   "mimetype": "text/x-python",
   "name": "python",
   "nbconvert_exporter": "python",
   "pygments_lexer": "ipython3",
   "version": "3.10.12"
  }
 },
 "nbformat": 4,
 "nbformat_minor": 5
}
