{
 "cells": [
  {
   "cell_type": "code",
   "execution_count": null,
   "id": "f7672d28-1306-4a49-9cd0-49b64f183d57",
   "metadata": {},
   "outputs": [
    {
     "name": "stdout",
     "output_type": "stream",
     "text": [
      "Meilleur arrangement de matchs (équipes par colonnes) :\n",
      " [[1 2 0 3 5]\n",
      " [7 9 8 4 6]]\n"
     ]
    }
   ],
   "source": [
    "import numpy as np\n",
    "from itertools import permutations\n",
    "\n",
    "# Chargement du fichier en respectant le NaN\n",
    "matrix = np.genfromtxt(\"model_forecasts.txt\", delimiter=\",\", dtype=np.float64)\n",
    "\n",
    "# Liste des équipes\n",
    "teams = np.arange(10)\n",
    "\n",
    "# Toutes les permutations possibles de 10 équipes\n",
    "all_orders = np.array(list(permutations(teams)))\n",
    "\n",
    "# Filtrage des permutations valides : chaque paire (i, i+1) ne doit pas être inversée (ordre croissant)\n",
    "valid = np.al(all_orders[:, ::2] < all_orders[:, 1::2], axis=1)\n",
    "\n",
    "# Garder les permutations qui représentent bien 5 matchs disjoints\n",
    "matchups = all_orders[valid]\n",
    "\n",
    "# Calcul de la somme des carrés des écarts de score pour chaque permutation\n",
    "score_sums = np.sum(matrix[matchups[:, ::2], matchups[:, 1::2]] ** 2, axis=1)\n",
    "\n",
    "# Sélection de l’indice avec la plus petite somme\n",
    "best_index = np.argmin(score_sums)\n",
    "best = matchups[best_index]\n",
    "\n",
    "# Format demandé\n",
    "result = np.vstack((best[::2], best[1::2]))\n",
    "print(\"Exercise 9: The result is: \\n\")\n",
    "print(result)\n"
   ]
  },
  {
   "cell_type": "code",
   "execution_count": null,
   "id": "3997c915",
   "metadata": {},
   "outputs": [],
   "source": []
  }
 ],
 "metadata": {
  "kernelspec": {
   "display_name": "Python 3 (ipykernel)",
   "language": "python",
   "name": "python3"
  },
  "language_info": {
   "codemirror_mode": {
    "name": "ipython",
    "version": 3
   },
   "file_extension": ".py",
   "mimetype": "text/x-python",
   "name": "python",
   "nbconvert_exporter": "python",
   "pygments_lexer": "ipython3",
   "version": "3.10.12"
  }
 },
 "nbformat": 4,
 "nbformat_minor": 5
}
